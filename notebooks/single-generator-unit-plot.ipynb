{
 "cells": [
  {
   "cell_type": "code",
   "execution_count": null,
   "metadata": {},
   "outputs": [],
   "source": [
    "%matplotlib inline\n",
    "%config InlineBackend.figure_format = 'retina'\n",
    "\n",
    "import matplotlib.pyplot as plt\n",
    "import matplotlib as mpl\n",
    "from importlib import reload\n",
    "import IPython\n",
    "mpl.rcParams['lines.linewidth'] = 0.25\n",
    "mpl.rcParams['axes.spines.top'] = False\n",
    "mpl.rcParams['axes.spines.right'] = False\n",
    "mpl.rcParams['axes.linewidth'] = 0.25\n",
    "\n",
    "mpl.rcParams['font.sans-serif'] = \"Arial\"\n",
    "mpl.rcParams['font.family'] = \"Arial\""
   ]
  },
  {
   "cell_type": "code",
   "execution_count": null,
   "metadata": {},
   "outputs": [],
   "source": [
    "import torch, argparse, os, shutil, inspect, json, numpy\n",
    "import netdissect\n",
    "from netdissect.easydict import EasyDict\n",
    "from experiment import dissect_experiment as experiment\n",
    "from netdissect import pbar, nethook, renormalize, parallelfolder, pidfile\n",
    "from netdissect import upsample, tally, imgviz, imgsave, bargraph, show\n",
    "\n",
    "torch.backends.cudnn.deterministic = True\n",
    "torch.backends.cudnn.benchmark = False\n",
    "\n",
    "# choices are alexnet, vgg16, or resnet152.\n",
    "args = EasyDict(model='progan', dataset='kitchen', seg='netpqc', layer='layer5', quantile=0.01)\n",
    "resdir = 'results/%s-%s-%s-%s-%s' % (args.model, args.dataset, args.seg, args.layer, int(args.quantile * 1000))\n",
    "def resfile(f):\n",
    "    return os.path.join(resdir, f)"
   ]
  },
  {
   "cell_type": "code",
   "execution_count": null,
   "metadata": {},
   "outputs": [],
   "source": [
    "model = experiment.load_model(args)\n",
    "layername = experiment.instrumented_layername(args)\n",
    "model.retain_layer(layername)\n",
    "dataset = experiment.load_dataset(args, model.model)\n",
    "upfn = experiment.make_upfn(args, dataset, model, layername)\n",
    "sample_size = len(dataset)\n",
    "percent_level = 0.995"
   ]
  },
  {
   "cell_type": "code",
   "execution_count": null,
   "metadata": {},
   "outputs": [],
   "source": [
    "from netdissect import renormalize\n",
    "\n",
    "segmodel, seglabels, segcatlabels = experiment.setting.load_segmenter(args.seg)\n",
    "renorm = renormalize.renormalizer(dataset, target='zc')"
   ]
  },
  {
   "cell_type": "code",
   "execution_count": null,
   "metadata": {},
   "outputs": [],
   "source": [
    "from netdissect import renormalize\n",
    "\n",
    "indices = range(200,212)\n",
    "batch = torch.cat([dataset[i][0][None,...] for i in indices])\n",
    "outs = model(batch.cuda())\n",
    "imgs = [renormalize.as_image(t) for t in outs]\n",
    "show([[img] for img in imgs])"
   ]
  },
  {
   "cell_type": "code",
   "execution_count": null,
   "metadata": {},
   "outputs": [],
   "source": [
    "from netdissect import imgviz\n",
    "\n",
    "iv = imgviz.ImageVisualizer(120)\n",
    "seg = segmodel.segment_batch(renorm(outs).cuda(), downsample=4)[:,0:1]\n",
    "\n",
    "show([(iv.image(outs[i]), iv.segmentation(seg[i,-1]),\n",
    "            iv.segment_key(seg[i,-1], segmodel))\n",
    "            for i in range(len(seg))])"
   ]
  },
  {
   "cell_type": "code",
   "execution_count": null,
   "metadata": {},
   "outputs": [],
   "source": [
    "window_segclasses = [i for i, n in enumerate(seglabels) if n == 'window']\n",
    "window_segclasses"
   ]
  },
  {
   "cell_type": "markdown",
   "metadata": {},
   "source": [
    "Generate 1000 images and separate them into those that have windows and those that do not."
   ]
  },
  {
   "cell_type": "code",
   "execution_count": null,
   "metadata": {},
   "outputs": [],
   "source": [
    "def window_present(data_batch, *args):\n",
    "    image_batch = model(data_batch.cuda())\n",
    "    seg = segmodel.segment_batch(renorm(image_batch), downsample=4)[:,0:1]\n",
    "    present_count = (seg == window_segclasses[0]).view(seg.shape[0], -1).sum(1)\n",
    "    return present_count\n",
    "    \n",
    "window_presence = tally.tally_cat(\n",
    "    window_present, dataset, sample_size=20000, pin_memory=True,\n",
    "    cachefile=resfile('window_presence.npz'))"
   ]
  },
  {
   "cell_type": "code",
   "execution_count": null,
   "metadata": {},
   "outputs": [],
   "source": [
    "in_examples = (window_presence > 204).nonzero()[:,0]\n",
    "out_examples = (window_presence <= 204).nonzero()[:,0]\n",
    "len(in_examples), len(out_examples)"
   ]
  },
  {
   "cell_type": "code",
   "execution_count": null,
   "metadata": {},
   "outputs": [],
   "source": [
    "def make_image(data_batch, *args):\n",
    "    return model(data_batch.cuda())\n",
    "    \n",
    "generated_image = tally.tally_cat(make_image, dataset, sample_size=len(window_presence), pin_memory=True)"
   ]
  },
  {
   "cell_type": "code",
   "execution_count": null,
   "metadata": {},
   "outputs": [],
   "source": [
    "unit_number = 314\n",
    "\n",
    "def max_unit(data_batch, *args):\n",
    "    _ = model(data_batch.cuda())\n",
    "    acts = model.retained_layer(layername)[:, unit_number]\n",
    "    return acts.view(acts.shape[0], -1).max(1)[0]\n",
    "    \n",
    "maxvals_all = tally.tally_cat(max_unit, dataset, sample_size=len(window_presence), pin_memory=True)"
   ]
  },
  {
   "cell_type": "code",
   "execution_count": null,
   "metadata": {
    "scrolled": false
   },
   "outputs": [],
   "source": [
    "result = ([[maxvals_all[i].item(), renormalize.as_image(generated_image[i])]\n",
    "          for indices in [in_examples[:10], out_examples[:10]]\n",
    "          for i in indices])\n",
    "show(result)"
   ]
  },
  {
   "cell_type": "code",
   "execution_count": null,
   "metadata": {
    "scrolled": false
   },
   "outputs": [],
   "source": [
    "import seaborn as sns\n",
    "import random\n",
    "\n",
    "in_vals = maxvals_all[in_examples].numpy()[:1000]\n",
    "out_vals = maxvals_all[out_examples].numpy()\n",
    "nbvals = out_vals[:len(in_vals)]\n",
    "\n",
    "\n",
    "fig, [ax1, ax2] =plt.subplots(nrows=2, ncols=1, figsize=(8, 3), dpi=300,\n",
    "                              # facecolor='white',\n",
    "                              sharex='all')\n",
    "\n",
    "#ax1.set_title('VGG-16 places unit 19 maxact, 150 random non-bus images (blue) and 150 bus images (red)')\n",
    "# a3.scatter(nonbus_vals, [random.random() for _ in nonbus_vals], alpha=0.1, s=10, c='gray')\n",
    "ax2.scatter(nbvals, range(len(nbvals)), alpha=0.5, s=10, c='#F0883B')\n",
    "ax2.scatter(in_vals, range(len(in_vals)), alpha=0.5, s=10, c='#4B4CBF')\n",
    "ax2.get_yaxis().set_ticks([])\n",
    "ax2.set_ylabel('Jitterplot')\n",
    "\n",
    "ax1.axvline(numpy.array(in_vals).mean().item(), color='#B6B6F2', linewidth=1.5, linestyle='--')\n",
    "ax1.axvline(numpy.array(out_vals).mean().item(), color='#F2CFB6', linewidth=1.5, linestyle='--')\n",
    "\n",
    "#ax2.set_title('Kernel density plot')\n",
    "sns.distplot(out_vals, kde=True, hist=False, kde_kws = {'linewidth': 3, \"color\":\"#F0883B\"},\n",
    "             label=\"kitchens with < 5%% window pixels, mean=%.1f\" % numpy.array(out_vals).mean().item(),\n",
    "            ax=ax1)\n",
    "sns.distplot(in_vals, kde=True, hist=False, kde_kws = {'linewidth': 3, \"color\":\"#4B4CBF\"},\n",
    "             label=\"kitchens with > 5%% window pixels, mean=%.1f\" % numpy.array(in_vals).mean().item(),\n",
    "            ax=ax1)\n",
    "ax1.set_ylabel('Density')\n",
    "ax1.get_yaxis().set_ticks([])\n",
    "ax1.set_xlim(-3, 32)\n",
    "ax2.set_xlabel('Unit 314 peak activation in image')\n",
    "\n",
    "plt.savefig(\"sgup.pdf\", bbox_inches='tight')"
   ]
  },
  {
   "cell_type": "code",
   "execution_count": null,
   "metadata": {},
   "outputs": [],
   "source": [
    "len(in_vals)"
   ]
  },
  {
   "cell_type": "code",
   "execution_count": null,
   "metadata": {},
   "outputs": [],
   "source": [
    "for i in (in_vals > 20).nonzero()[0]:\n",
    "    print(i)\n",
    "    show(renormalize.as_image(generated_image[i]))"
   ]
  },
  {
   "cell_type": "code",
   "execution_count": null,
   "metadata": {},
   "outputs": [],
   "source": [
    "len(generated_image)"
   ]
  }
 ],
 "metadata": {
  "kernelspec": {
   "display_name": "Python 3",
   "language": "python",
   "name": "python3"
  },
  "language_info": {
   "codemirror_mode": {
    "name": "ipython",
    "version": 3
   },
   "file_extension": ".py",
   "mimetype": "text/x-python",
   "name": "python",
   "nbconvert_exporter": "python",
   "pygments_lexer": "ipython3",
   "version": "3.6.10"
  }
 },
 "nbformat": 4,
 "nbformat_minor": 2
}