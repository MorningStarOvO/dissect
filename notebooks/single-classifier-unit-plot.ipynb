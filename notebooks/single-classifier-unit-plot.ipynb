{
 "cells": [
  {
   "cell_type": "code",
   "execution_count": null,
   "metadata": {},
   "outputs": [],
   "source": [
    "%matplotlib inline\n",
    "%config InlineBackend.figure_format = 'retina'\n",
    "\n",
    "import matplotlib.pyplot as plt\n",
    "import matplotlib as mpl\n",
    "from importlib import reload\n",
    "import IPython\n",
    "mpl.rcParams['lines.linewidth'] = 0.25\n",
    "mpl.rcParams['axes.spines.top'] = False\n",
    "mpl.rcParams['axes.spines.right'] = False\n",
    "mpl.rcParams['axes.linewidth'] = 0.25\n",
    "\n",
    "mpl.rcParams['font.sans-serif'] = \"Arial\"\n",
    "mpl.rcParams['font.family'] = \"Arial\""
   ]
  },
  {
   "cell_type": "code",
   "execution_count": null,
   "metadata": {},
   "outputs": [],
   "source": [
    "import torch, argparse, os, shutil, inspect, json, numpy\n",
    "import netdissect\n",
    "from netdissect.easydict import EasyDict\n",
    "from netdissect import pbar, nethook, renormalize, parallelfolder, pidfile\n",
    "from netdissect import upsample, tally, imgviz, imgsave, bargraph, show\n",
    "from experiment import dissect_experiment as experiment\n",
    "\n",
    "torch.backends.cudnn.deterministic = True\n",
    "torch.backends.cudnn.benchmark = False\n",
    "\n",
    "# choices are alexnet, vgg16, or resnet152.\n",
    "args = EasyDict(model='vgg16', dataset='places', seg='netpqc', layer='conv5_3', quantile=0.01)\n",
    "resdir = 'results/%s-%s-%s-%s-%s' % (args.model, args.dataset, args.seg, args.layer, int(args.quantile * 1000))\n",
    "def resfile(f):\n",
    "    return os.path.join(resdir, f)"
   ]
  },
  {
   "cell_type": "code",
   "execution_count": null,
   "metadata": {},
   "outputs": [],
   "source": [
    "model = experiment.load_model(args)\n",
    "layername = experiment.instrumented_layername(args)\n",
    "model.retain_layer(layername)\n",
    "dataset = experiment.setting.load_dataset('imagenet', crop_size=224)\n",
    "readable_class = {}\n",
    "import csv\n",
    "with open('datasets/imagenet/labels.txt') as f:\n",
    "    for row in csv.reader(f):\n",
    "        k, v = row[:2]\n",
    "        readable_class[k] = v\n",
    "dataset.orig_classes = dataset.classes\n",
    "dataset.classes = [readable_class[c] for c in dataset.orig_classes]"
   ]
  },
  {
   "cell_type": "code",
   "execution_count": null,
   "metadata": {},
   "outputs": [],
   "source": [
    "# Grab pre-relu data\n",
    "model.model.features.relu5_3.inplace = False"
   ]
  },
  {
   "cell_type": "code",
   "execution_count": null,
   "metadata": {},
   "outputs": [],
   "source": [
    "bus_classes = [c for c, n in enumerate(dataset.classes) if n in ['minibus', 'school bus', 'trolleybus']]\n",
    "bus_classes"
   ]
  },
  {
   "cell_type": "code",
   "execution_count": null,
   "metadata": {},
   "outputs": [],
   "source": [
    "airplane_classes = [c for c, n in enumerate(dataset.classes) if n in ['airliner', 'warplane']]"
   ]
  },
  {
   "cell_type": "code",
   "execution_count": null,
   "metadata": {},
   "outputs": [],
   "source": [
    "from collections import defaultdict\n",
    "\n",
    "# bus_examples = defaultdict(list)\n",
    "bus_examples = []\n",
    "nonbus_examples = []\n",
    "clr_choice = {654: 'r', 779: 'g', 874: 'm'}\n",
    "bus_colors = []\n",
    "for i in pbar(range(len(dataset.images))):\n",
    "    d, c = dataset.images[i]\n",
    "    if c not in bus_classes:\n",
    "        nonbus_examples.append(i)\n",
    "    else:\n",
    "        bus_examples.append(i)\n",
    "        bus_colors.append(clr_choice[c])\n",
    "len(bus_examples), len(nonbus_examples)"
   ]
  },
  {
   "cell_type": "code",
   "execution_count": null,
   "metadata": {},
   "outputs": [],
   "source": [
    "from collections import defaultdict\n",
    "\n",
    "airplane_examples = []\n",
    "nonairplane_examples = []\n",
    "airplane_clr_choice = {404: 'r', 405: 'g', 895: 'b'}\n",
    "airplane_colors = []\n",
    "for i in pbar(range(len(dataset.images))):\n",
    "    d, c = dataset.images[i]\n",
    "    if c not in airplane_classes:\n",
    "        nonairplane_examples.append(i)\n",
    "    else:\n",
    "        airplane_examples.append(i)\n",
    "        airplane_colors.append(airplane_clr_choice[c])\n",
    "len(airplane_examples), len(nonairplane_examples)"
   ]
  },
  {
   "cell_type": "code",
   "execution_count": null,
   "metadata": {
    "scrolled": true
   },
   "outputs": [],
   "source": [
    "unit_number = 19 # or 190\n",
    "from netdissect import tally\n",
    "def max_unit(imbatch, cls):\n",
    "    model(imbatch.cuda())\n",
    "    unit_max = model.retained_layer(layername)[:,unit_number].view(len(imbatch), -1).max(1)[0]\n",
    "    return unit_max\n",
    "\n",
    "maxvals_all = tally.tally_cat(max_unit, dataset, batch_size=100, num_workers=30, pin_memory=True,\n",
    "                             cachefile=resfile('maxvals_all_imagenet.npz'))"
   ]
  },
  {
   "cell_type": "code",
   "execution_count": null,
   "metadata": {},
   "outputs": [],
   "source": [
    "result = ([[maxvals_all[i].item(), renormalize.as_image(dataset[i][0], source=dataset)]\n",
    "          for indices in [bus_examples[:10], nonbus_examples[:10]]\n",
    "          for i in indices])\n",
    "show(result)"
   ]
  },
  {
   "cell_type": "code",
   "execution_count": null,
   "metadata": {},
   "outputs": [],
   "source": [
    "result = ([[maxvals_all[i].item(), renormalize.as_image(dataset[i][0], source=dataset)]\n",
    "          for indices in [airplane_examples[:10], nonairplane_examples[:10]]\n",
    "          for i in indices])\n",
    "show(result)"
   ]
  },
  {
   "cell_type": "code",
   "execution_count": null,
   "metadata": {},
   "outputs": [],
   "source": [
    "bus_vals = maxvals_all[bus_examples].numpy()\n",
    "nonbus_vals = maxvals_all[nonbus_examples].numpy()\n",
    "nbvals = nonbus_vals[:len(bus_vals)]\n",
    "\n",
    "\n",
    "import random\n",
    "\n",
    "f, (a1, a2, a3) = plt.subplots(nrows=3, ncols=1, figsize=(15, 10), facecolor='white')\n",
    "# plt.figure(figsize=(10, 5))\n",
    "a3.set_title('Possible error: testing unit 192 (zero-indexing issue) (3 bus classes in color)')\n",
    "a3.scatter(nonbus_vals, [random.random() for _ in nonbus_vals], alpha=0.1, s=10, c='gray')\n",
    "# plt.scatter(nbvals, [random.random() for _ in nbvals], alpha=0.9, s=10, c='black')\n",
    "a3.scatter(bus_vals, [random.random() for _ in bus_vals], alpha=0.9, s=10, c=bus_colors)\n",
    "a3.get_yaxis().set_ticks([])\n",
    "a3.set_xlabel('unit 190 activation value, maximum over featuremap (post-ReLU)')\n",
    "\n",
    "bus_vals = maxvals_all[bus_examples].numpy()\n",
    "nonbus_vals = maxvals_all[nonbus_examples].numpy()\n",
    "\n",
    "a1.set_title('VGG-16 places unit 191 maxact across the imagenet test set (3 bus classes in color)')\n",
    "a1.scatter(nonbus_vals, [random.random() for _ in nonbus_vals], alpha=0.1, s=10, c='gray')\n",
    "# plt.scatter(nbvals, [random.random() for _ in nbvals], alpha=0.9, s=10, c='black')\n",
    "a1.scatter(bus_vals, [random.random() for _ in bus_vals], alpha=0.9, s=10, c=bus_colors)\n",
    "a1.get_yaxis().set_ticks([])\n",
    "a1.set_xlabel('unit 190 activation value, maximum over featuremap (post-ReLU)')\n",
    "\n",
    "a2.set_title('VGG-16 places unit 191 maxact, 150 random non-bus images (blue) and 150 bus images (red)')\n",
    "# a3.scatter(nonbus_vals, [random.random() for _ in nonbus_vals], alpha=0.1, s=10, c='gray')\n",
    "a2.scatter(nbvals, [random.random() for _ in nbvals], alpha=0.9, s=10, c='blue')\n",
    "a2.scatter(bus_vals, [random.random() for _ in bus_vals], alpha=0.9, s=10, c='red')\n",
    "a2.get_yaxis().set_ticks([])\n",
    "a2.set_xlabel('unit 190 activation value, maximum over featuremap (post-ReLU)')\n",
    "\n",
    "plt.tight_layout()\n"
   ]
  },
  {
   "cell_type": "code",
   "execution_count": null,
   "metadata": {
    "scrolled": false
   },
   "outputs": [],
   "source": [
    "import seaborn as sns\n",
    "\n",
    "bus_vals = maxvals_all[bus_examples].numpy()\n",
    "nonbus_vals = maxvals_all[nonbus_examples].numpy()\n",
    "nbvals = nonbus_vals[:len(bus_vals)]\n",
    "\n",
    "\n",
    "fig, [ax1, ax2] =plt.subplots(nrows=2, ncols=1, figsize=(8, 3), dpi=300,\n",
    "                              # facecolor='white',\n",
    "                              sharex='all')\n",
    "\n",
    "#ax1.set_title('VGG-16 places unit 19 maxact, 150 random non-bus images (blue) and 150 bus images (red)')\n",
    "# a3.scatter(nonbus_vals, [random.random() for _ in nonbus_vals], alpha=0.1, s=10, c='gray')\n",
    "ax2.scatter(nbvals, range(len(nbvals)), alpha=0.5, s=10, c='#F0883B')\n",
    "ax2.scatter(bus_vals, range(len(bus_vals)), alpha=0.5, s=10, c='#4B4CBF')\n",
    "ax2.get_yaxis().set_ticks([])\n",
    "ax2.set_ylabel('Jitterplot')\n",
    "\n",
    "\n",
    "#ax2.set_title('Kernel density plot')\n",
    "sns.distplot(nonbus_vals, kde=True, hist=False, kde_kws = {'linewidth': 3, \"color\":\"#F0883B\"},\n",
    "             label=\"images from non-bus imagenet classes\",\n",
    "            ax=ax1)\n",
    "sns.distplot(bus_vals, kde=True, hist=False, kde_kws = {'linewidth': 3, \"color\":\"#4B4CBF\"},\n",
    "             label=\"imagenet school bus, trolley bus, minibus images\",\n",
    "            ax=ax1)\n",
    "ax1.set_ylabel('Density')\n",
    "ax1.get_yaxis().set_ticks([])\n",
    "ax1.set_xlim(-50, 500)\n",
    "ax2.set_xlabel('Unit 19 max activation in featuremap')"
   ]
  },
  {
   "cell_type": "code",
   "execution_count": null,
   "metadata": {},
   "outputs": [],
   "source": [
    "from netdissect import tally\n",
    "def max_unit_150(imbatch, cls):\n",
    "    model(imbatch.cuda())\n",
    "    unit_max = model.retained_layer(layername)[:,150].view(len(imbatch), -1).max(1)[0]\n",
    "    return unit_max\n",
    "\n",
    "maxvals_all_150 = tally.tally_cat(max_unit_150, dataset, batch_size=100, num_workers=30, pin_memory=True,\n",
    "                                 cachefile=resfile('maxval_val_150.npz'))"
   ]
  },
  {
   "cell_type": "code",
   "execution_count": null,
   "metadata": {},
   "outputs": [],
   "source": [
    "import seaborn as sns\n",
    "\n",
    "airplane_vals = maxvals_all_150[airplane_examples].numpy()\n",
    "nonairplane_vals = maxvals_all_150[nonairplane_examples].numpy()\n",
    "navals = nonairplane_vals[:len(airplane_vals)]\n",
    "\n",
    "fig, [ax1, ax2] =plt.subplots(nrows=2, ncols=1, figsize=(8, 3), dpi=300,\n",
    "                              # facecolor='white',\n",
    "                              sharex='all')\n",
    "\n",
    "#ax1.set_title('VGG-16 places unit 19 maxact, 150 random non-bus images (blue) and 150 bus images (red)')\n",
    "# a3.scatter(nonbus_vals, [random.random() for _ in nonbus_vals], alpha=0.1, s=10, c='gray')\n",
    "ax2.scatter(navals, range(len(navals)), alpha=0.5, s=10, c='#F0883B')\n",
    "ax2.scatter(airplane_vals, range(len(airplane_vals)), alpha=0.5, s=10, c='#4B4CBF')\n",
    "ax2.get_yaxis().set_ticks([])\n",
    "ax2.set_ylabel('Jitterplot')\n",
    "\n",
    "\n",
    "#ax2.set_title('Kernel density plot')\n",
    "sns.distplot(nonairplane_vals, kde=True, hist=False, kde_kws = {'linewidth': 3, \"color\":\"#F0883B\"},\n",
    "             label=\"images from non-airplane imagenet classes\",\n",
    "            ax=ax1)\n",
    "sns.distplot(airplane_vals, kde=True, hist=False, kde_kws = {'linewidth': 3, \"color\":\"#4B4CBF\"},\n",
    "             label=\"imagenet airliner, warplane images\",\n",
    "            ax=ax1)\n",
    "ax1.set_ylabel('Density')\n",
    "ax1.get_yaxis().set_ticks([])\n",
    "ax1.set_xlim(-50, 250)\n",
    "ax2.set_xlabel('Unit %d max activation in featuremap' % unit_number)"
   ]
  },
  {
   "cell_type": "code",
   "execution_count": null,
   "metadata": {},
   "outputs": [],
   "source": [
    "bus_vals.mean(), nonbus_vals.mean()"
   ]
  },
  {
   "cell_type": "code",
   "execution_count": null,
   "metadata": {},
   "outputs": [],
   "source": [
    "dataset.classes"
   ]
  },
  {
   "cell_type": "code",
   "execution_count": null,
   "metadata": {},
   "outputs": [],
   "source": [
    "train_dataset = experiment.setting.load_dataset('imagenet', split='train', crop_size=224)\n",
    "train_dataset.orig_classes = train_dataset.classes\n",
    "train_dataset.classes = [readable_class[c] for c in train_dataset.orig_classes]\n",
    "\n",
    "maxvals_train_150 = tally.tally_cat(max_unit_150, train_dataset, batch_size=100, num_workers=30, pin_memory=True,\n",
    "                                    cachefile=resfile('maxval_train_150.npz'))"
   ]
  },
  {
   "cell_type": "code",
   "execution_count": null,
   "metadata": {},
   "outputs": [],
   "source": [
    "model(train_dataset[0][0][None].cuda())\n",
    "print(train_dataset[0][0][0,0,0])\n",
    "print(train_dataset.transforms)\n",
    "print(model.retained_layer(layername)[:,150].view(1, -1).max(1)[0])\n",
    "\n",
    "renormalize.as_image(train_dataset[0][0])"
   ]
  },
  {
   "cell_type": "code",
   "execution_count": null,
   "metadata": {},
   "outputs": [],
   "source": [
    "from collections import defaultdict\n",
    "\n",
    "airplane_train_examples = []\n",
    "nonairplane_train_examples = []\n",
    "for i in pbar(range(len(train_dataset.images))):\n",
    "    d, c = train_dataset.images[i]\n",
    "    if c not in airplane_classes:\n",
    "        nonairplane_train_examples.append(i)\n",
    "    else:\n",
    "        airplane_train_examples.append(i)\n",
    "len(airplane_train_examples), len(nonairplane_train_examples)"
   ]
  },
  {
   "cell_type": "code",
   "execution_count": null,
   "metadata": {
    "scrolled": false
   },
   "outputs": [],
   "source": [
    "import seaborn as sns\n",
    "\n",
    "sample_size = 1000\n",
    "all_airplane_train_vals = maxvals_train_150[airplane_train_examples].numpy()\n",
    "airplane_train_vals = all_airplane_train_vals[:sample_size]\n",
    "# calculage mean over the entire large sample, but illustrate with sample of\n",
    "# 1000 points, for making the plot legible.\n",
    "nonairplane_train_vals = maxvals_train_150[nonairplane_train_examples].numpy()\n",
    "navals = nonairplane_train_vals[:len(airplane_train_vals)]\n",
    "\n",
    "fig, [ax1, ax2] =plt.subplots(nrows=2, ncols=1, figsize=(8, 3), dpi=300,\n",
    "                              # facecolor='white',\n",
    "                              sharex='all')\n",
    "\n",
    "#ax1.set_title('VGG-16 places unit 19 maxact, 150 random non-bus images (blue) and 150 bus images (red)')\n",
    "ax2.scatter(navals, range(len(navals)), alpha=0.5, s=10, c='#F0883B')\n",
    "ax2.scatter(airplane_train_vals, range(len(airplane_train_vals)), alpha=0.5, s=10, c='#4B4CBF')\n",
    "ax2.get_yaxis().set_ticks([])\n",
    "ax2.set_ylabel('Jitterplot')\n",
    "\n",
    "\n",
    "#ax2.set_title('Kernel density plot')\n",
    "sns.distplot(nonairplane_train_vals, kde=True, hist=False, kde_kws = {'linewidth': 3, \"color\":\"#F0883B\"},\n",
    "             label=\"non-airplane imagenet images, mean=%.1f\"\n",
    "             % numpy.array(nonairplane_train_vals).mean().item(),\n",
    "            ax=ax1)\n",
    "sns.distplot(airplane_train_vals, kde=True, hist=False, kde_kws = {'linewidth': 3, \"color\":\"#4B4CBF\"},\n",
    "             label=\"imagenet airplane images, mean=%.1f\"\n",
    "             % numpy.array(airplane_train_vals).mean().item(),\n",
    "            ax=ax1)\n",
    "ax1.set_ylabel('Density')\n",
    "ax1.get_yaxis().set_ticks([])\n",
    "ax1.set_xlim(-50, 250)\n",
    "ax1.axvline(numpy.array(all_airplane_train_vals).mean().item(), color=\"#4B4CBF\", linewidth=1.5, linestyle='--')\n",
    "ax1.axvline(numpy.array(nonairplane_train_vals).mean().item(), color=\"#F0883B\", linewidth=1.5, linestyle='--')\n",
    "for i in [1,3,5]:\n",
    "    ax2.scatter([nonairplane_train_vals[i]], [i], s=50, \n",
    "           marker='|', edgecolors='none', color=\"#F0883B\" )\n",
    "    ax2.scatter([airplane_train_vals[i]], [i], s=50, \n",
    "           marker='|', edgecolors='none', color=\"#4B4CBF\")\n",
    "    \n",
    "plt.savefig(\"scup.pdf\", bbox_inches='tight')"
   ]
  },
  {
   "cell_type": "code",
   "execution_count": null,
   "metadata": {},
   "outputs": [],
   "source": [
    "maxvals_train_150[0]"
   ]
  },
  {
   "cell_type": "code",
   "execution_count": null,
   "metadata": {},
   "outputs": [],
   "source": [
    "sort_pos = maxvals_train_150[airplane_train_examples].sort(0)[0]\n",
    "sort_neg = maxvals_train_150[nonairplane_train_examples].sort(0)[0]\n",
    "unsort_neg = sort_neg[::len(sort_neg) // len(sort_pos)][:len(sort_pos)].flip(0)\n",
    "thresh = sort_pos[(sort_pos < unsort_neg).sum()].item()\n",
    "acc = ((sort_pos >= thresh).sum().float() / len(sort_pos) +\n",
    "       (sort_neg < thresh).sum().float() / len(sort_neg)).item() / 2\n",
    "thresh, acc"
   ]
  },
  {
   "cell_type": "code",
   "execution_count": null,
   "metadata": {},
   "outputs": [],
   "source": [
    "len(train_dataset)\n",
    "airplane_train_examples[0]"
   ]
  },
  {
   "cell_type": "code",
   "execution_count": null,
   "metadata": {
    "scrolled": false
   },
   "outputs": [],
   "source": [
    "for i in range(10):\n",
    "    print(airplane_train_examples[i], airplane_train_vals[i])\n",
    "    display(renormalize.as_image(train_dataset[airplane_train_examples[i]][0], source=dataset))"
   ]
  },
  {
   "cell_type": "code",
   "execution_count": null,
   "metadata": {},
   "outputs": [],
   "source": [
    "for i in [1,3,5]:\n",
    "    print(nonairplane_train_examples[i], nonairplane_train_vals[i])\n",
    "    display(renormalize.as_image(train_dataset[nonairplane_train_examples[i]][0], source=dataset))"
   ]
  }
 ],
 "metadata": {
  "kernelspec": {
   "display_name": "Python 3",
   "language": "python",
   "name": "python3"
  },
  "language_info": {
   "codemirror_mode": {
    "name": "ipython",
    "version": 3
   },
   "file_extension": ".py",
   "mimetype": "text/x-python",
   "name": "python",
   "nbconvert_exporter": "python",
   "pygments_lexer": "ipython3",
   "version": "3.6.10"
  }
 },
 "nbformat": 4,
 "nbformat_minor": 2
}